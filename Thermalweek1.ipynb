{
 "cells": [
  {
   "cell_type": "code",
   "execution_count": 3,
   "metadata": {},
   "outputs": [],
   "source": [
    "import numpy as np"
   ]
  },
  {
   "cell_type": "code",
   "execution_count": 13,
   "metadata": {},
   "outputs": [],
   "source": [
    "def rule3(dA, dB):\n",
    "    dQ = np.sqrt(dA**2 + dB**2)\n",
    "    return dQ\n",
    "\n",
    "def rule4(Q, dA, A, dB, B, dC, C):\n",
    "    dQ = Q*(np.sqrt(((dA/A)**2) + ((dB/B)**2) + ((dC/C)**2)))\n",
    "    return dQ\n"
   ]
  },
  {
   "cell_type": "code",
   "execution_count": 2,
   "metadata": {},
   "outputs": [],
   "source": [
    "def coefficient(dL, L, dT):\n",
    "    a = dL/(L*dT)\n",
    "    return a\n",
    "\n",
    "def dT(Tf, Ti):\n",
    "    change = Tf - Ti\n",
    "    return change\n"
   ]
  },
  {
   "cell_type": "code",
   "execution_count": 4,
   "metadata": {},
   "outputs": [],
   "source": [
    "length = 1.05 #all lengths will be in meters\n",
    "err_l = 0.001\n",
    "dlength = 0.00125\n",
    "err_dl = 0.00001\n",
    "T_initial = 23.4 #In degrees celsius\n",
    "T_final = 92.5 #celsius\n",
    "err_Ti = 0.3 # celsius\n",
    "err_Tf = 0.1 # celsius\n",
    "\n"
   ]
  },
  {
   "cell_type": "code",
   "execution_count": 10,
   "metadata": {},
   "outputs": [
    {
     "name": "stdout",
     "output_type": "stream",
     "text": [
      "Change in temp is: 69.1 Celsius\n"
     ]
    }
   ],
   "source": [
    "d_temp = dT(T_final, T_initial)\n",
    "print('Change in temp is:', d_temp, 'Celsius')"
   ]
  },
  {
   "cell_type": "code",
   "execution_count": 15,
   "metadata": {},
   "outputs": [
    {
     "name": "stdout",
     "output_type": "stream",
     "text": [
      "Error in temp is: 0.31622776601683794 Celsius\n"
     ]
    }
   ],
   "source": [
    "err_dtemp = rule3(err_Tf, err_Ti)\n",
    "print('Error in temp is:', err_dtemp, 'Celsius')\n"
   ]
  },
  {
   "cell_type": "code",
   "execution_count": 16,
   "metadata": {},
   "outputs": [
    {
     "name": "stdout",
     "output_type": "stream",
     "text": [
      "Coefficient is: 1.7228309558266145e-05 J/Kg*K\n"
     ]
    }
   ],
   "source": [
    "coef = coefficient(dlength, length, d_temp)\n",
    "print('Coefficient is:', coef, 'J/Kg*K')\n"
   ]
  },
  {
   "cell_type": "code",
   "execution_count": 17,
   "metadata": {},
   "outputs": [
    {
     "name": "stdout",
     "output_type": "stream",
     "text": [
      "1.5962962826045274e-07\n"
     ]
    }
   ],
   "source": [
    "err_c = rule4(coef, err_dl, dlength, err_l, length, err_dtemp, d_temp)\n",
    "print(err_c)"
   ]
  },
  {
   "cell_type": "code",
   "execution_count": 18,
   "metadata": {},
   "outputs": [
    {
     "name": "stdout",
     "output_type": "stream",
     "text": [
      "Coefficient is:  1.7228309558266145e-05 + or - 1.5962962826045274e-07 J/Kg*k\n"
     ]
    }
   ],
   "source": [
    "print('Coefficient is: ', coef, '+ or -', err_c, 'J/Kg*k')\n"
   ]
  },
  {
   "cell_type": "code",
   "execution_count": null,
   "metadata": {},
   "outputs": [],
   "source": []
  }
 ],
 "metadata": {
  "kernelspec": {
   "display_name": "Python 3",
   "language": "python",
   "name": "python3"
  },
  "language_info": {
   "codemirror_mode": {
    "name": "ipython",
    "version": 3
   },
   "file_extension": ".py",
   "mimetype": "text/x-python",
   "name": "python",
   "nbconvert_exporter": "python",
   "pygments_lexer": "ipython3",
   "version": "3.7.3"
  }
 },
 "nbformat": 4,
 "nbformat_minor": 2
}
